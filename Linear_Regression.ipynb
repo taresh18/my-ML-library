{
  "nbformat": 4,
  "nbformat_minor": 0,
  "metadata": {
    "colab": {
      "name": "Untitled6.ipynb",
      "provenance": [],
      "collapsed_sections": [],
      "authorship_tag": "ABX9TyOoNGWGn94+2et7YMpXGxzZ",
      "include_colab_link": true
    },
    "kernelspec": {
      "name": "python3",
      "display_name": "Python 3"
    }
  },
  "cells": [
    {
      "cell_type": "markdown",
      "metadata": {
        "id": "view-in-github",
        "colab_type": "text"
      },
      "source": [
        "<a href=\"https://colab.research.google.com/github/taresh18/my-ML-library/blob/master/Linear_Regression.ipynb\" target=\"_parent\"><img src=\"https://colab.research.google.com/assets/colab-badge.svg\" alt=\"Open In Colab\"/></a>"
      ]
    },
    {
      "cell_type": "code",
      "metadata": {
        "id": "39KncAmRqMj8",
        "colab_type": "code",
        "colab": {}
      },
      "source": [
        "#  importing the required libraries\n",
        "import Pre_Processing as PP\n",
        "import Linear_Regression as LR"
      ],
      "execution_count": 0,
      "outputs": []
    },
    {
      "cell_type": "code",
      "metadata": {
        "id": "_-bchHxftGqn",
        "colab_type": "code",
        "colab": {}
      },
      "source": [
        "#  passing the file paths of training and test dataset (csv files) to for pre-processing\n",
        "data = PP.PreProcessing(r\"/content/sample_data/mnist_train_small.csv\",\n",
        "                        r\"/content/sample_data/mnist_test.csv\")\n",
        "#  the data is split into the following arrays\n",
        "[X_train, Y_train, X_cv, Y_cv, X_test, Y_test] = data.PP_data()"
      ],
      "execution_count": 0,
      "outputs": []
    },
    {
      "cell_type": "code",
      "metadata": {
        "id": "gPmOqV2YtHnO",
        "colab_type": "code",
        "colab": {
          "base_uri": "https://localhost:8080/",
          "height": 358
        },
        "outputId": "bd06258c-e98d-4c11-fc1a-90a7fb3a2071"
      },
      "source": [
        "#   implementing linear regression\n",
        "a = LR.LinearRegression()\n",
        "#  additional parameters that can be passed to LinearRegression:\n",
        "#  (alpha(learning rate); lamda(regularization parameter); iterations; batch sizes)\n",
        "a.LinearRegression(X_train, Y_train, X_cv, Y_cv, X_test, Y_test)\n",
        "            "
      ],
      "execution_count": 25,
      "outputs": [
        {
          "output_type": "display_data",
          "data": {
            "image/png": "[encoded data removed]",
            "text/plain": [
              "<Figure size 432x288 with 1 Axes>"
            ]
          },
          "metadata": {
            "tags": []
          }
        },
        {
          "output_type": "stream",
          "text": [
            "accuracy_train : 21.52 %\n",
            "accuracy_cv : 21.35 %\n",
            "accuracy_test : 20.41 %\n"
          ],
          "name": "stdout"
        }
      ]
    },
    {
      "cell_type": "code",
      "metadata": {
        "id": "Cl1ezTJFzotv",
        "colab_type": "code",
        "colab": {
          "base_uri": "https://localhost:8080/",
          "height": 34
        },
        "outputId": "537ef6c2-8117-431f-f443-43250168be9d"
      },
      "source": [
        "#  comparing accuracy with that of sklearn model\n",
        "from sklearn.linear_model import LinearRegression\n",
        "skl = LinearRegression().fit(X_train, Y_train)\n",
        "prediction=skl.predict(X_test)\n",
        "#  calculating accuracy on test data\n",
        "count = 0\n",
        "for i in range(Y_test.shape[0]):\n",
        "    if (prediction[i][0] == Y_test[i][0]): \n",
        "      count += 1\n",
        "accuracy = (float(count) / Y_test.shape[0]) * 100\n",
        "accuracy = round(accuracy, 2) * 100\n",
        "print(\"accuracy by sklearn on test data : \", accuracy)"
      ],
      "execution_count": 26,
      "outputs": [
        {
          "output_type": "stream",
          "text": [
            "accuracy by sklearn on test data :  0.0\n"
          ],
          "name": "stdout"
        }
      ]
    }
  ]
}