{
  "nbformat": 4,
  "nbformat_minor": 0,
  "metadata": {
    "colab": {
      "name": "Untitled6.ipynb",
      "provenance": [],
      "collapsed_sections": [],
      "authorship_tag": "ABX9TyPO5lMwcA3rX0lHptRIyWJQ",
      "include_colab_link": true
    },
    "kernelspec": {
      "name": "python3",
      "display_name": "Python 3"
    },
    "accelerator": "GPU"
  },
  "cells": [
    {
      "cell_type": "markdown",
      "metadata": {
        "id": "view-in-github",
        "colab_type": "text"
      },
      "source": [
        "<a href=\"https://colab.research.google.com/github/taresh18/my-ML-library/blob/master/K_N_N.ipynb\" target=\"_parent\"><img src=\"https://colab.research.google.com/assets/colab-badge.svg\" alt=\"Open In Colab\"/></a>"
      ]
    },
    {
      "cell_type": "code",
      "metadata": {
        "id": "39KncAmRqMj8",
        "colab_type": "code",
        "colab": {}
      },
      "source": [
        "#  importing the required libraries\n",
        "import Pre_Processing as PP\n",
        "import K_N_N as knn"
      ],
      "execution_count": 0,
      "outputs": []
    },
    {
      "cell_type": "code",
      "metadata": {
        "id": "_-bchHxftGqn",
        "colab_type": "code",
        "colab": {}
      },
      "source": [
        "#  passing the file paths of training and test dataset (csv files) to for pre-processing\n",
        "data = PP.PreProcessing(r\"/content/sample_data/mnist_train_small.csv\",\n",
        "                        r\"/content/sample_data/mnist_test.csv\")\n",
        "#  the data is split into the following arrays\n",
        "[X_train, Y_train, X_cv, Y_cv, X_test, Y_test] = data.PP_data()"
      ],
      "execution_count": 0,
      "outputs": []
    },
    {
      "cell_type": "code",
      "metadata": {
        "id": "gPmOqV2YtHnO",
        "colab_type": "code",
        "colab": {
          "base_uri": "https://localhost:8080/",
          "height": 34
        },
        "outputId": "553f1690-af7f-4511-cfe1-6cc424e308b9"
      },
      "source": [
        "#   implementing k nearest neighbours\n",
        "a = knn.KNN()\n",
        "#  additional parameters that can be passed KNN: (value of nearest neighbours i.e. K)\n",
        "a.KNN(X_train, X_test,Y_train, Y_test)\n",
        "            "
      ],
      "execution_count": 5,
      "outputs": [
        {
          "output_type": "stream",
          "text": [
            "Accuracy achieved : 95.67956795679568 %\n"
          ],
          "name": "stdout"
        }
      ]
    },
    {
      "cell_type": "code",
      "metadata": {
        "id": "brRtyxHPGiH9",
        "colab_type": "code",
        "colab": {
          "base_uri": "https://localhost:8080/",
          "height": 34
        },
        "outputId": "5a96dd66-8624-47d7-c160-ff9e09423ae7"
      },
      "source": [
        "#  comparing accuracy with that of sklearn model\n",
        "from sklearn.neighbors import KNeighborsClassifier  \n",
        "skl = KNeighborsClassifier(n_neighbors=5)  \n",
        "skl.fit(X_train, Y_train[:, 0])\n",
        "prediction = skl.predict(X_test)\n",
        "accuracy = (sum(prediction == Y_test[:, 0]) / Y_test.shape[0]) * 100\n",
        "print(\"Accuracy achieved by sklearn : \", accuracy, \"%\")"
      ],
      "execution_count": 5,
      "outputs": [
        {
          "output_type": "stream",
          "text": [
            "Accuracy achieved by sklearn :  95.67956795679568 %\n"
          ],
          "name": "stdout"
        }
      ]
    }
  ]
}