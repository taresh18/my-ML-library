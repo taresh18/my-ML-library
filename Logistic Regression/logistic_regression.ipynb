{
  "nbformat": 4,
  "nbformat_minor": 0,
  "metadata": {
    "colab": {
      "name": "Untitled6.ipynb",
      "provenance": [],
      "collapsed_sections": [],
      "authorship_tag": "ABX9TyPN10EsrRImFdFU9EYT7rbE",
      "include_colab_link": true
    },
    "kernelspec": {
      "name": "python3",
      "display_name": "Python 3"
    },
    "accelerator": "GPU"
  },
  "cells": [
    {
      "cell_type": "markdown",
      "metadata": {
        "id": "view-in-github",
        "colab_type": "text"
      },
      "source": [
        "<a href=\"https://colab.research.google.com/github/taresh18/my-ML-library/blob/master/logistic_regression.ipynb\" target=\"_parent\"><img src=\"https://colab.research.google.com/assets/colab-badge.svg\" alt=\"Open In Colab\"/></a>"
      ]
    },
    {
      "cell_type": "code",
      "metadata": {
        "id": "39KncAmRqMj8",
        "colab_type": "code",
        "colab": {}
      },
      "source": [
        "#  importing the required libraries\n",
        "import Pre_Processing as PP\n",
        "import Logistic_Regression as lor"
      ],
      "execution_count": 0,
      "outputs": []
    },
    {
      "cell_type": "code",
      "metadata": {
        "id": "_-bchHxftGqn",
        "colab_type": "code",
        "colab": {}
      },
      "source": [
        "#  passing the file paths of training and test dataset (csv files) to for pre-processing\n",
        "data = PP.PreProcessing(r\"/content/sample_data/mnist_train_small.csv\",\n",
        "                        r\"/content/sample_data/mnist_test.csv\")\n",
        "#  the data is split into the following arrays\n",
        "[X_train, Y_train, X_cv, Y_cv, X_test, Y_test] = data.PP_data()"
      ],
      "execution_count": 0,
      "outputs": []
    },
    {
      "cell_type": "code",
      "metadata": {
        "id": "gPmOqV2YtHnO",
        "colab_type": "code",
        "colab": {
          "base_uri": "https://localhost:8080/",
          "height": 358
        },
        "outputId": "17ee3fb1-0ddb-43cb-9de9-c48bf82b7239"
      },
      "source": [
        "#   implementing logistic regression\n",
        "a = lor.LogisticRegression()\n",
        "#  additional parameters that can be passed logistic_regression:\n",
        "#  (learning rate; regularization parameter; iterations; no. of class labels; ith_class(to plot cost history), batch size)\n",
        "a.logistic_regression(X_train, Y_train, X_cv, Y_cv, X_test, Y_test)\n",
        "            "
      ],
      "execution_count": 4,
      "outputs": [
        {
          "output_type": "display_data",
          "data": {
            "image/png": "[encoded data removed]",
            "text/plain": [
              "<Figure size 432x288 with 1 Axes>"
            ]
          },
          "metadata": {
            "tags": []
          }
        },
        {
          "output_type": "stream",
          "text": [
            "accuracy_train : 87.80548784299017 %\n",
            "accuracy_cv : 87.3 %\n",
            "accuracy_test : 87.84878487848785 %\n"
          ],
          "name": "stdout"
        }
      ]
    },
    {
      "cell_type": "code",
      "metadata": {
        "id": "brRtyxHPGiH9",
        "colab_type": "code",
        "colab": {
          "base_uri": "https://localhost:8080/",
          "height": 168
        },
        "outputId": "4bc21b2c-15fc-4116-9a01-bab4fda96f16"
      },
      "source": [
        "#  comparing accuracy with that of sklearn model\n",
        "from sklearn.linear_model import LogisticRegression\n",
        "skl = LogisticRegression()\n",
        "skl.fit(X_train, Y_train[:, 0])\n",
        "prediction = skl.predict(X_test)\n",
        "accuracy = (sum(prediction == Y_test[:, 0]) / Y_test.shape[0]) * 100\n",
        "print(\"Accuracy achieved by sklearn : \", accuracy, \"%\")"
      ],
      "execution_count": 7,
      "outputs": [
        {
          "output_type": "stream",
          "text": [
            "Accuracy achieved by sklearn :  91.1991199119912 %\n"
          ],
          "name": "stdout"
        },
        {
          "output_type": "stream",
          "text": [
            "/usr/local/lib/python3.6/dist-packages/sklearn/linear_model/_logistic.py:940: ConvergenceWarning: lbfgs failed to converge (status=1):\n",
            "STOP: TOTAL NO. of ITERATIONS REACHED LIMIT.\n",
            "\n",
            "Increase the number of iterations (max_iter) or scale the data as shown in:\n",
            "    https://scikit-learn.org/stable/modules/preprocessing.html\n",
            "Please also refer to the documentation for alternative solver options:\n",
            "    https://scikit-learn.org/stable/modules/linear_model.html#logistic-regression\n",
            "  extra_warning_msg=_LOGISTIC_SOLVER_CONVERGENCE_MSG)\n"
          ],
          "name": "stderr"
        }
      ]
    }
  ]
}
