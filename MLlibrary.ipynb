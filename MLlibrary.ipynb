{
  "nbformat": 4,
  "nbformat_minor": 0,
  "metadata": {
    "colab": {
      "name": "Untitled2.ipynb",
      "provenance": [],
      "include_colab_link": true
    },
    "kernelspec": {
      "name": "python3",
      "display_name": "Python 3"
    },
    "accelerator": "GPU"
  },
  "cells": [
    {
      "cell_type": "markdown",
      "metadata": {
        "id": "view-in-github",
        "colab_type": "text"
      },
      "source": [
        "<a href=\"https://colab.research.google.com/github/taresh18/my-ML-library/blob/master/MLlibrary.ipynb\" target=\"_parent\"><img src=\"https://colab.research.google.com/assets/colab-badge.svg\" alt=\"Open In Colab\"/></a>"
      ]
    },
    {
      "cell_type": "code",
      "metadata": {
        "id": "8K3L5P9Uu2Nm",
        "colab_type": "code",
        "colab": {}
      },
      "source": [
        "# importing the required libraries\n",
        "import numpy as np\n",
        "import pandas as pd\n",
        "import matplotlib.pyplot as plt\n",
        "import math"
      ],
      "execution_count": 0,
      "outputs": []
    },
    {
      "cell_type": "code",
      "metadata": {
        "id": "f7gvcqiovCKx",
        "colab_type": "code",
        "colab": {}
      },
      "source": [
        "class MLlibrary(object):  # parent class containing the common functions used in algorithms\n",
        "\n",
        "    def __init__(self, train_data_filename, test_data_filename):\n",
        "        self.train_data_filename = train_data_filename\n",
        "        self.test_data_filename = test_data_filename\n",
        "\n",
        "    def load_dataset(self):  # creating dataframes of train and test dataset\n",
        "        train_dataset = pd.read_csv(self.train_data_filename)\n",
        "        test_dataset = pd.read_csv(self.test_data_filename)\n",
        "        train_and_test = [train_dataset, test_dataset]\n",
        "        return train_and_test\n",
        "\n",
        "    def data_initialisation(self, train_and_test=None):  # extracting features and targets from input dataset\n",
        "        train_and_test = self.load_dataset()\n",
        "        train_feature_matrix = np.array(train_and_test[0])\n",
        "        test_feature_matrix = np.array(train_and_test[1])\n",
        "\n",
        "        # adding an additional column to features arrays to account for biased features\n",
        "        train_feature_matrix = train_feature_matrix[:, 1:]\n",
        "        test_feature_matrix = test_feature_matrix[:, 1:]\n",
        "        train_features = np.ones((np.shape(train_feature_matrix)[0], np.shape(train_feature_matrix)[1] + 1), dtype=int)\n",
        "        test_features = np.ones((np.shape(test_feature_matrix)[0], np.shape(test_feature_matrix)[1] + 1), dtype=int)\n",
        "        train_features[:, 1:] = train_feature_matrix\n",
        "        test_features[:, 1:] = test_feature_matrix\n",
        "\n",
        "        train_target_matrix = np.array(train_and_test[0])\n",
        "        test_target_matrix = np.array(train_and_test[1])\n",
        "\n",
        "        train_target_matrix = train_target_matrix[:, 0]\n",
        "        test_target_matrix = test_target_matrix[:, 0]\n",
        "\n",
        "        arrays = [train_features, test_features, train_target_matrix, test_target_matrix]\n",
        "        # converting arrays to well shaped numpy vectors\n",
        "        arrays[2] = np.array([arrays[2]])\n",
        "        arrays[2] = np.transpose(arrays[2])\n",
        "        arrays[3] = np.array([arrays[3]])\n",
        "        arrays[3] = np.transpose(arrays[3])\n",
        "        return arrays\n",
        "\n",
        "    def mean_normalization(self, arrays=None):  # applying mean normalisation on features\n",
        "        arrays = self.data_initialisation()\n",
        "        arrays[0] = ((arrays[0] - np.mean(arrays[0])) / (np.max(arrays[0]) - np.min(arrays[0])))\n",
        "        arrays[1] = ((arrays[1] - np.mean(arrays[1])) / (np.max(arrays[1]) - np.min(arrays[1])))\n",
        "        return arrays"
      ],
      "execution_count": 0,
      "outputs": []
    },
    {
      "cell_type": "code",
      "metadata": {
        "id": "rYELCyoGvCpr",
        "colab_type": "code",
        "colab": {}
      },
      "source": [
        "class LinearRegression(MLlibrary):  # class for Linear Regression\n",
        "\n",
        "    def split_data(self, train_features, train_target, split_ratio=0.8): # split training data into training and cross validation\n",
        "        m = np.shape(train_features)[0]\n",
        "        split_at = int(m * split_ratio)\n",
        "        X_train = train_features[:split_at, :]\n",
        "        Y_train = train_target[:split_at, :]\n",
        "        X_cv = train_features[split_at:, :]\n",
        "        Y_cv = train_target[split_at:, :]\n",
        "        return X_train, Y_train, X_cv, Y_cv\n",
        "\n",
        "    def hypothesis(self, X, theta):\n",
        "        hypothesis = np.dot(X, theta)\n",
        "        return hypothesis\n",
        "\n",
        "    def cost_function(self, X, theta, y, lamda):\n",
        "        hypothesis = self.hypothesis(X, theta)\n",
        "        m = X.shape[0]\n",
        "        theta_without_zero = theta[1:, :]\n",
        "        mean_squared_error = np.square(hypothesis - y)\n",
        "        cost_function = (np.sum(mean_squared_error) + lamda * np.sum(theta_without_zero))/(2.0 * m)\n",
        "        return cost_function\n",
        "\n",
        "    def gradient_descent(self, X, theta, y, lamda, alpha):\n",
        "        m = np.shape(X)[0]\n",
        "        hypothesis = self.hypothesis(X, theta)\n",
        "        theta = theta - (alpha / m) * (np.dot(np.transpose(X), (hypothesis - y)) + lamda * theta)\n",
        "        return theta\n",
        "\n",
        "    def training(self, iterations, X_train, Y_train, lamda, alpha):\n",
        "        cost_history = []\n",
        "        theta = np.zeros((np.shape(X_train)[1], 1))\n",
        "        for iteration in range(iterations):\n",
        "            theta = self.gradient_descent(X_train, theta, Y_train, lamda, alpha)\n",
        "            cost = self.cost_function(X_train, theta, Y_train, lamda)\n",
        "            cost_history.append(cost)\n",
        "        return theta, cost_history\n",
        "\n",
        "    def predicting(self, X, Y, iterations, lamda, alpha):\n",
        "        [theta, cost_history] = self.training(iterations, X, Y, lamda, alpha)\n",
        "        prediction = self.hypothesis(X, theta)\n",
        "        prediction = np.round(prediction, 0)  # rounds the prediction value to its nearest integer\n",
        "        return prediction, cost_history\n",
        "\n",
        "    def plots(self, cost_history, iterations):  # to plot cost function with iterations\n",
        "        iteration = []\n",
        "        for i in range(iterations):\n",
        "            iteration.append(i)\n",
        "        plt.grid(True)\n",
        "        plt.scatter(iteration, cost_history, marker=\"x\")\n",
        "        plt.xlabel('no of iterations')\n",
        "        plt.ylabel('cost_train')\n",
        "        plt.show()\n",
        "\n",
        "    def accuracy(self, prediction, Y):  # to calculate accuracy on predictions\n",
        "        m = Y.shape[0]\n",
        "        count = 0\n",
        "        for i in range(np.shape(Y)[0]):\n",
        "            if (prediction[i][0] == Y[i][0]): \n",
        "              count += 1\n",
        "        accuracy = float(count) / m\n",
        "        return accuracy * 100\n",
        "\n",
        "    def LinearRegression(self, iterations, alpha, lamda):\n",
        "        arrays = self.mean_normalization()\n",
        "        [X_train, Y_train, X_cv, Y_cv] = self.split_data(arrays[0], arrays[2])\n",
        "        [X_test, Y_test] = [arrays[1], arrays[3]]\n",
        "\n",
        "        [prediction_train, cost_history] = self.predicting(X_train, Y_train, iterations, lamda, alpha)\n",
        "        prediction_cv = self.predicting(X_cv, Y_cv, iterations, lamda, alpha)[0]\n",
        "        prediction_test = self.predicting(X_test, Y_test, iterations, lamda, alpha)[0]\n",
        "\n",
        "        accuracy_train = self.accuracy(prediction_train, Y_train)\n",
        "        accuracy_cv = self.accuracy(prediction_cv, Y_cv)\n",
        "        accuracy_test = self.accuracy(prediction_test, Y_test)\n",
        "\n",
        "        self.plots(cost_history, iterations)\n",
        "\n",
        "        print(accuracy_train, accuracy_cv, accuracy_test)"
      ],
      "execution_count": 0,
      "outputs": []
    },
    {
      "cell_type": "code",
      "metadata": {
        "id": "vk5pwx4-9J17",
        "colab_type": "code",
        "outputId": "0705ecfb-96bf-4b1c-a470-0418bb8877b1",
        "colab": {
          "base_uri": "https://localhost:8080/",
          "height": 299
        }
      },
      "source": [
        "a = LinearRegression(r\"/content/sample_data/mnist_train_small.csv\",\n",
        "                     r\"/content/sample_data/mnist_test.csv\")\n",
        "\n",
        "a.LinearRegression(1000, 0.03, 20)  # parameters to pass=(iterations, learning rate, regularisation parameter)"
      ],
      "execution_count": 0,
      "outputs": [
        {
          "output_type": "display_data",
          "data": {
            "image/png": "[encoded data removed]",
            "text/plain": [
              "<Figure size 432x288 with 1 Axes>"
            ]
          },
          "metadata": {
            "tags": []
          }
        },
        {
          "output_type": "stream",
          "text": [
            "21.320082505156574 21.325 21.47214721472147\n"
          ],
          "name": "stdout"
        }
      ]
    },
    {
      "cell_type": "code",
      "metadata": {
        "id": "4kUyC8bkk0XF",
        "colab_type": "code",
        "colab": {}
      },
      "source": [
        "class LogisticRegression(MLlibrary):  # class for Linear Regression\n",
        "\n",
        "    def split_data(self, train_features, train_target,  split_ratio = 0.8):  # split training data into training and cross validation\n",
        "        m = np.shape(train_features)[0]\n",
        "        split_at = int(m * split_ratio)\n",
        "        X_train = train_features[:split_at, :]\n",
        "        Y_train = train_target[:split_at, :]\n",
        "        X_cv = train_features[split_at:, :]\n",
        "        Y_cv = train_target[split_at:, :]\n",
        "        return X_train, Y_train, X_cv, Y_cv\n",
        "\n",
        "    def sigmoid(self, z):\n",
        "        sigmoid = 1 / (1 + np.exp(-z))\n",
        "        return sigmoid\n",
        "\n",
        "    def hypothesis(self, X, theta):\n",
        "        z = np.dot(X, theta)\n",
        "        hypothesis = self.sigmoid(z)\n",
        "        return hypothesis\n",
        "\n",
        "    def CostFunction(self, X, y, theta, lamda):  # returns log loss cost function with regularization \n",
        "        m = np.shape(y)[0]\n",
        "        log_loss = (- y * np.log(self.hypothesis(X, theta))) - ((1 - y) * np.log(1 - self.hypothesis(X, theta)))\n",
        "        cost_function = (1 / m) * np.sum(log_loss) + (lamda / (2 * m)) * np.sum(np.square(theta[1:]))\n",
        "        return cost_function\n",
        "\n",
        "    def gradient(self, X, y, theta, lamda):  # returns gradient to be used in updating parameters\n",
        "        m = np.shape(y)[0]\n",
        "        j_0 = 1 / m * np.dot(X.T, (self.hypothesis(X, theta) - y))[0]  # not including regularization term in biased parameters\n",
        "        j_1 = 1 / m * np.dot(X.T, (self.hypothesis(X, theta) - y))[1:] + (lamda / m) * theta[1:]\n",
        "        gradient = np.vstack((j_0[:, np.newaxis], j_1))\n",
        "        return gradient\n",
        "\n",
        "    def GradientDescent(self, X, y, theta, alpha, iterations, lamda):\n",
        "        m = np.shape(y)[0]\n",
        "        cost_history = np.zeros((iterations, 1))\n",
        "\n",
        "        for i in range(iterations):\n",
        "            cost = self.CostFunction(X, y, theta, lamda)\n",
        "            gradient = self.gradient(X, y, theta, lamda)\n",
        "            theta = theta - (alpha * gradient)\n",
        "            cost_history[i, 0] = cost\n",
        "\n",
        "        return theta, cost_history\n",
        "\n",
        "    def classifier(self, X, y, alpha, iterations, num_classes, lamda):  # implement one Vs. all classification\n",
        "        m, n = X.shape[0], X.shape[1]\n",
        "        initial_theta = np.zeros((n, 1))\n",
        "        all_theta = []\n",
        "        all_costs = np.zeros((iterations, num_classes))\n",
        "\n",
        "        for i in range(num_classes):\n",
        "            # convert target values into classes by one-hot encoding\n",
        "            y_into_classes = np.where(y == i, 1, 0)  \n",
        "            # find parameters and cost history for each individual class\n",
        "            theta, cost_history = self.GradientDescent(X, y_into_classes, initial_theta, alpha, iterations, lamda)\n",
        "            all_theta.extend(theta)\n",
        "            # putting cost history of individual classes into separate columns of all_J\n",
        "            all_costs[:, [i]] = cost_history\n",
        "        return np.array(all_theta).reshape(num_classes, n), all_costs\n",
        "\n",
        "    def predicting(self, all_theta, X):\n",
        "        m = np.shape(X)[0]\n",
        "        probabilities = np.dot(X, all_theta.T)\n",
        "        predictions = np.argmax(probabilities, axis=1)  # returns the index(class) having the maximum probability\n",
        "        predictions = np.array([predictions])\n",
        "        predictions = predictions.T\n",
        "        return predictions\n",
        "\n",
        "    def plot(self, cost_history, iterations):  # to plot cost function with iterations\n",
        "        iteration = []\n",
        "        for i in range(iterations):\n",
        "            iteration.append(i)\n",
        "        iterations = np.array([iterations])\n",
        "        iterations = iterations.T\n",
        "        plt.grid(True)\n",
        "        plt.scatter(iteration, cost_history, marker=\"x\")\n",
        "        plt.xlabel('no of iterations')\n",
        "        plt.ylabel('cost_train')\n",
        "        plt.show()\n",
        "\n",
        "    def accuracy(self, prediction, Y):  # to calculate accuracy on predictions\n",
        "        m = Y.shape[0]\n",
        "        count = 0\n",
        "        for i in range(np.shape(Y)[0]):\n",
        "            if (prediction[i][0] == Y[i][0]):\n",
        "                count += 1\n",
        "        accuracy = float(count) / m\n",
        "        return accuracy * 100\n",
        "\n",
        "    def logistic_regression(self, alpha=0.03, iterations=1000, num_classes = 10, lamda = 1, ith_class = 1):\n",
        "        arrays = self.mean_normalization()\n",
        "        [X_train, Y_train, X_cv, Y_cv] = self.split_data(arrays[0], arrays[2])\n",
        "        [X_test, Y_test] = [arrays[1], arrays[3]]\n",
        "\n",
        "        [all_theta, all_costs] = self.classifier(X_train, Y_train, alpha, iterations, num_classes, lamda)\n",
        "\n",
        "        pred_train = self.predicting(all_theta, X_train)\n",
        "        pred_cv = self.predicting(all_theta, X_cv)\n",
        "        pred_test = self.predicting(all_theta, X_test)\n",
        "        accuracy_train = self.accuracy(pred_train, Y_train)\n",
        "        accuracy_cv = self.accuracy(pred_cv, Y_cv)\n",
        "        accuracy_test = self.accuracy(pred_test, Y_test)\n",
        "\n",
        "        print(accuracy_train, accuracy_cv, accuracy_test)\n",
        "        # plotting the cost history of ith class with no. of iterations\n",
        "        self.plot(all_costs[:, ith_class], iterations)\n"
      ],
      "execution_count": 0,
      "outputs": []
    },
    {
      "cell_type": "code",
      "metadata": {
        "id": "hgLrEm76loHp",
        "colab_type": "code",
        "outputId": "1e42c054-8a2a-4ea4-d613-d40484badda0",
        "colab": {
          "base_uri": "https://localhost:8080/",
          "height": 296
        }
      },
      "source": [
        "a = LogisticRegression(r\"/content/sample_data/mnist_train_small.csv\",\n",
        "                     r\"/content/sample_data/mnist_test.csv\")\n",
        "\n",
        "a.logistic_regression()  "
      ],
      "execution_count": 11,
      "outputs": [
        {
          "output_type": "stream",
          "text": [
            "87.967997999875 87.25 87.998799879988\n"
          ],
          "name": "stdout"
        },
        {
          "output_type": "display_data",
          "data": {
            "image/png": "[encoded data removed]",
            "text/plain": [
              "<Figure size 432x288 with 1 Axes>"
            ]
          },
          "metadata": {
            "tags": []
          }
        }
      ]
    },
    {
      "cell_type": "code",
      "metadata": {
        "id": "peeQ4plds4Ta",
        "colab_type": "code",
        "colab": {}
      },
      "source": [
        "class KNN(MLlibrary):  # class of KNN algorithm\n",
        "\n",
        "    def euclidean_distance(self, train_features_row, test_features_row):\n",
        "        squared_distance = np.sum(np.square(train_features_row - test_features_row))\n",
        "        distance = math.sqrt(squared_distance)\n",
        "        return distance\n",
        "\n",
        "    def finding_neighbours(self, train_features, train_target, test_features_row, k):\n",
        "        m = np.shape(train_features)[0]\n",
        "        distances = np.zeros((m, 2))\n",
        "        for ith_train_row in range(m):\n",
        "            distance = self.euclidean_distance(train_features[ith_train_row, :], test_features_row)\n",
        "            distances[ith_train_row, 0] = train_target[ith_train_row, 0]\n",
        "            distances[ith_train_row, 1] = distance\n",
        "        \n",
        "        abc = np.argsort(distances[:,1])\n",
        "        distances = distances[abc]\n",
        "        neighbours = np.zeros((k,1))\n",
        "        for i in range(k):\n",
        "            neighbours[i][0] = distances[i][0]\n",
        "\n",
        "        return neighbours\n",
        "\n",
        "    def predicting_class(self, train_features, train_target, test_features_row, k):\n",
        "        neighbours = self.finding_neighbours(train_features, train_target, test_features_row, k)\n",
        "        (values,counts) = np.unique(neighbours, return_counts=True)\n",
        "        ind = np.argmax(counts)\n",
        "        return values[ind]\n",
        "\n",
        "    def finding_predictions(self, train_features, train_target, test_features,  k):\n",
        "        m = np.shape(test_features)[0]\n",
        "        predictions = np.zeros((m, 1))\n",
        "        for ith_test_row in range(m):\n",
        "            test_feature_row = test_features[ith_test_row]\n",
        "            predictions[ith_test_row, 0] = (self.predicting_class(train_features, train_target, test_feature_row, k))\n",
        "        print(predictions)\n",
        "        print(test_target)\n",
        "\n",
        "    def accuracy(self, train_features, train_target, test_features, test_target, k):  # calculate accuracy of prediction\n",
        "        predictions = self.finding_predictions(train_features, train_target, test_features, k)\n",
        "        m = np.shape(test_features)[0]\n",
        "        count = 0\n",
        "        for i in range(m):\n",
        "            if predictions[i][0] == test_target[i][0]:\n",
        "                count += 1\n",
        "        accuracy = float(count) / m\n",
        "        return accuracy\n",
        "\n",
        "    def KNN(self, k):\n",
        "        arrays = self.mean_normalization()\n",
        "        self.finding_predictions(arrays[0], arrays[2], arrays[1],  k)\n",
        "        #print(accuracy)"
      ],
      "execution_count": 0,
      "outputs": []
    },
    {
      "cell_type": "code",
      "metadata": {
        "id": "t19lbaWRtKse",
        "colab_type": "code",
        "colab": {}
      },
      "source": [
        "a = KNN(r\"/content/sample_data/mnist_train_small.csv\",\n",
        "                     r\"/content/sample_data/mnist_test.csv\")\n",
        "a.KNN(3)  # parameters to be passed = (value of K(no of nearest neighbours))"
      ],
      "execution_count": 0,
      "outputs": []
    }
  ]
}