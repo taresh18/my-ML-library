{
  "nbformat": 4,
  "nbformat_minor": 0,
  "metadata": {
    "colab": {
      "name": "Untitled6.ipynb",
      "provenance": [],
      "collapsed_sections": [],
      "authorship_tag": "ABX9TyOJqSsu1gcbM4NL9n5LwLLf",
      "include_colab_link": true
    },
    "kernelspec": {
      "name": "python3",
      "display_name": "Python 3"
    },
    "accelerator": "GPU"
  },
  "cells": [
    {
      "cell_type": "markdown",
      "metadata": {
        "id": "view-in-github",
        "colab_type": "text"
      },
      "source": [
        "<a href=\"https://colab.research.google.com/github/taresh18/my-ML-library/blob/master/K_means.ipynb\" target=\"_parent\"><img src=\"https://colab.research.google.com/assets/colab-badge.svg\" alt=\"Open In Colab\"/></a>"
      ]
    },
    {
      "cell_type": "code",
      "metadata": {
        "id": "39KncAmRqMj8",
        "colab_type": "code",
        "colab": {}
      },
      "source": [
        "#  importing the required libraries\n",
        "import Pre_Processing as PP\n",
        "import Neural_Network as nn"
      ],
      "execution_count": 0,
      "outputs": []
    },
    {
      "cell_type": "code",
      "metadata": {
        "id": "_-bchHxftGqn",
        "colab_type": "code",
        "colab": {}
      },
      "source": [
        "#  passing the file paths of training and test dataset (csv files) to for pre-processing\n",
        "data = PP.PreProcessing(r\"/content/sample_data/mnist_train_small.csv\",\n",
        "                        r\"/content/sample_data/mnist_test.csv\")\n",
        "#  the data is split into the following arrays\n",
        "[X_train, Y_train, X_cv, Y_cv, X_test, Y_test] = data.PP_data()"
      ],
      "execution_count": 0,
      "outputs": []
    },
    {
      "cell_type": "code",
      "metadata": {
        "id": "gPmOqV2YtHnO",
        "colab_type": "code",
        "colab": {
          "base_uri": "https://localhost:8080/",
          "height": 358
        },
        "outputId": "d9d0f3d7-189d-4aa2-f593-92ddae32cf43"
      },
      "source": [
        "#   implementing neural networks\n",
        "a = nn.NeuralNetwork()\n",
        "#  additional parameters that can be passed neural_network:\n",
        "#  (learning rate; regularization parameter; iterations; no. of class labels; hidden layer size\n",
        "a.neural_network(X_train, Y_train, X_cv, Y_cv, X_test, Y_test)\n",
        "            "
      ],
      "execution_count": 3,
      "outputs": [
        {
          "output_type": "display_data",
          "data": {
            "image/png": "[encoded data removed]",
            "text/plain": [
              "<Figure size 432x288 with 1 Axes>"
            ]
          },
          "metadata": {
            "tags": []
          }
        },
        {
          "output_type": "stream",
          "text": [
            "accuracy_train :  90.6181636352272 %\n",
            "accuracy_cv :  89.8 %\n",
            "accuracy_test :  89.57895789578959 %\n"
          ],
          "name": "stdout"
        }
      ]
    },
    {
      "cell_type": "code",
      "metadata": {
        "id": "brRtyxHPGiH9",
        "colab_type": "code",
        "colab": {
          "base_uri": "https://localhost:8080/",
          "height": 34
        },
        "outputId": "e8af9b0d-93f3-497b-f244-7269c6f20bdb"
      },
      "source": [
        "#  comparing accuracy with that of sklearn model\n",
        "from sklearn.neural_network import MLPClassifier\n",
        "skl = MLPClassifier(hidden_layer_sizes=32)\n",
        "skl.fit(X_train, Y_train[:, 0])\n",
        "prediction = skl.predict(X_test)\n",
        "accuracy = (sum(prediction == Y_test[:, 0]) / Y_test.shape[0]) * 100\n",
        "print(\"Accuracy achieved by sklearn : \", accuracy, \"%\")"
      ],
      "execution_count": 4,
      "outputs": [
        {
          "output_type": "stream",
          "text": [
            "Accuracy achieved by sklearn :  95.05950595059505 %\n"
          ],
          "name": "stdout"
        }
      ]
    }
  ]
}
